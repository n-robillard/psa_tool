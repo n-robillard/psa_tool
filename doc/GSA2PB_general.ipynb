{
 "cells": [
  {
   "cell_type": "markdown",
   "source": [
    "# General description of GSA2PB\n",
    "\n",
    "## Introduction\n",
    "\n",
    "GSA2PB have the main objetive to implement a analyse the allosteric communication, based on a structural alphabet, the Protein Blocks (PBs). The model of this program is GSA-tools, developped by Fraternalli *et al.* in 2013 (article), which analyze the trajectories of molecular dynamique by the use of a strucural alphabet. This approach was based on a succession of statistic analyze for predict the allosteric mouvment in a protein. However, GSA-tools use a old version of Gromacs, and was not totally useable.\n",
    "\n",
    "Here we implement the same statistic analyse but based on the PBs alphabet, which are provide by a free use software : PBxplore."
   ],
   "metadata": {}
  }
 ],
 "metadata": {
  "orig_nbformat": 4,
  "language_info": {
   "name": "python"
  }
 },
 "nbformat": 4,
 "nbformat_minor": 2
}