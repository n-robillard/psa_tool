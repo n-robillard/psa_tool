{
 "cells": [
  {
   "cell_type": "markdown",
   "source": [
    "# General description of PSA_tool\n",
    "\n",
    "## Introduction\n",
    "\n",
    "PSA_tool have the main objetive to implement a analyse the allosteric communication, based on a structural alphabet, the Protein Blocks (PBs). The model of this program is GSA-tools, developped by Fraternalli *et al.* in 2013 (article), which analyze the trajectories of molecular dynamique by the use of a strucural alphabet. This approach was based on a succession of statistic analyze for predict the allosteric mouvment in a protein. However, GSA-tools use a old version of Gromacs, and was not totally useable.\n",
    "\n",
    "Here we implement the same statistic analyse but based on the PBs alphabet, which are provide by a free use software : PBxplore."
   ],
   "metadata": {}
  },
  {
   "cell_type": "markdown",
   "source": [
    "## Installation:\n",
    "\n",
    "The psa_tool program is available on this [GitHub reprository](https://github.com/n-robillard/psa_tool). The first step is to clone the reprository and create the right conda environment to that:\n",
    "\n",
    "``` bash\n",
    "$ git clone https://github.com/n-robillard/psa_tool.git\n",
    "\n",
    "$ cd psa_tool\n",
    "\n",
    "$ conda create -f psa_tool_env.yml\n",
    "\n",
    "```\n",
    "\n",
    "## Utilisation:\n",
    "\n",
    "To use psa_tool, it's first need to have specific files .pdb at differents frames after a stimulus, which are placed in a directory in the data directory. With our exemple:\n",
    "\n",
    "```bash\n",
    ".../data/calf1_wt\n",
    "```\n",
    "\n",
    "After, we nedd to be replace in the main directory, `psa_tool`, and run the following command:\n",
    "\n",
    "```bash\n",
    "$ cd ..\n",
    "$ pwd\n",
    ".../psa_tool\n",
    "\n",
    "$ python ./src/psa_tool.py\n",
    "```\n",
    "\n",
    "Now, we will detailed the fonctionning of psa_tool.\n"
   ],
   "metadata": {}
  },
  {
   "cell_type": "markdown",
   "source": [
    "## I) Select the specific pdb file and compute PBxplore assignement\n",
    "\n",
    "In the first part of the program, we need to assign the Protein Block alphabet to each pdb file. To do that, we first add criteria directly selected by the user."
   ],
   "metadata": {}
  },
  {
   "cell_type": "code",
   "execution_count": 1,
   "source": [
    "import os\n",
    "from shutil import copyfile\n",
    "\n",
    "dir_name = \"\"\n",
    "while dir_name == \"\":\n",
    "    temp = input(\"Name of the directory where sample are stored in \\\"data\\\" : \")\n",
    "    if os.path.exists(\"../data/\"+dir_name):\n",
    "        dir_name = temp\n",
    "    else:\n",
    "        print(\"Directory doesn't exist !\")\n",
    "\n",
    "files = os.listdir(\"../data/\"+dir_name)\n",
    "pos = files[0].rfind(\"_\") + 1\n",
    "file_row = files[0][:pos]\n",
    "start = int(input(\"Please enter the time where the analyse start : \"))\n",
    "end = 0\n",
    "while end <= start:\n",
    "    end = int(input(\"Please enter the time where the analyse end : \"))\n",
    "step = int(input(\"Please, enter the time between every steps : \"))\n",
    "current = start\n",
    "while current <= end:\n",
    "    file_name = file_row + str(current) + \".pdb\"\n",
    "    copyfile(\"../data/\"+ dir_name +\"/\"+ file_name, \"../data/temp/\" + file_name)\n",
    "    current += step"
   ],
   "outputs": [
    {
     "output_type": "stream",
     "name": "stdout",
     "text": [
      "Name of the directory where sample are stored in \"data\" :  calf1_wt\n",
      "Please enter the time where the analyse start :  0\n",
      "Please enter the time where the analyse end :  800\n",
      "Please, enter the time between every steps :  5\n"
     ]
    }
   ],
   "metadata": {}
  },
  {
   "cell_type": "markdown",
   "source": [
    "On this example, we use the calf1 wild type motion, provide by our reporters, with 851 frames.\n",
    "\n",
    "At this point, the program just copy the files needed into a directory name \"temp\" in data. After that, we need to use PBassign from PBxplore to determined the Protein Blocks (PBs) for make the statistic analysis."
   ],
   "metadata": {}
  },
  {
   "cell_type": "code",
   "execution_count": 2,
   "source": [
    "os.system('PBassign -p ../data/temp' + ' -o ../data/sequences')"
   ],
   "outputs": [
    {
     "output_type": "stream",
     "name": "stderr",
     "text": [
      "Read 1 chain(s) in ../data/temp/WT_20.pdb\n",
      "Read 1 chain(s) in ../data/temp/WT_25.pdb\n",
      "Read 1 chain(s) in ../data/temp/WT_30.pdb\n",
      "Read 1 chain(s) in ../data/temp/WT_35.pdb\n",
      "Read 1 chain(s) in ../data/temp/WT_40.pdb\n",
      "Read 1 chain(s) in ../data/temp/WT_45.pdb\n",
      "Read 1 chain(s) in ../data/temp/WT_50.pdb\n",
      "Read 1 chain(s) in ../data/temp/WT_55.pdb\n",
      "Read 1 chain(s) in ../data/temp/WT_60.pdb\n",
      "Read 1 chain(s) in ../data/temp/WT_65.pdb\n",
      "Read 1 chain(s) in ../data/temp/WT_70.pdb\n",
      "Read 1 chain(s) in ../data/temp/WT_75.pdb\n",
      "Read 1 chain(s) in ../data/temp/WT_80.pdb\n",
      "Read 1 chain(s) in ../data/temp/WT_85.pdb\n",
      "Read 1 chain(s) in ../data/temp/WT_90.pdb\n",
      "Read 1 chain(s) in ../data/temp/WT_95.pdb\n",
      "Read 1 chain(s) in ../data/temp/WT_100.pdb\n",
      "Read 1 chain(s) in ../data/temp/WT_0.pdb\n",
      "Read 1 chain(s) in ../data/temp/WT_5.pdb\n",
      "Read 1 chain(s) in ../data/temp/WT_10.pdb\n",
      "Read 1 chain(s) in ../data/temp/WT_15.pdb\n",
      "Read 1 chain(s) in ../data/temp/WT_105.pdb\n",
      "Read 1 chain(s) in ../data/temp/WT_110.pdb\n",
      "Read 1 chain(s) in ../data/temp/WT_115.pdb\n",
      "Read 1 chain(s) in ../data/temp/WT_120.pdb\n",
      "Read 1 chain(s) in ../data/temp/WT_125.pdb\n",
      "Read 1 chain(s) in ../data/temp/WT_130.pdb\n",
      "Read 1 chain(s) in ../data/temp/WT_135.pdb\n",
      "Read 1 chain(s) in ../data/temp/WT_140.pdb\n",
      "Read 1 chain(s) in ../data/temp/WT_145.pdb\n",
      "Read 1 chain(s) in ../data/temp/WT_150.pdb\n",
      "Read 1 chain(s) in ../data/temp/WT_155.pdb\n",
      "Read 1 chain(s) in ../data/temp/WT_160.pdb\n",
      "Read 1 chain(s) in ../data/temp/WT_165.pdb\n",
      "Read 1 chain(s) in ../data/temp/WT_170.pdb\n",
      "Read 1 chain(s) in ../data/temp/WT_175.pdb\n",
      "Read 1 chain(s) in ../data/temp/WT_180.pdb\n",
      "Read 1 chain(s) in ../data/temp/WT_185.pdb\n",
      "Read 1 chain(s) in ../data/temp/WT_190.pdb\n",
      "Read 1 chain(s) in ../data/temp/WT_195.pdb\n",
      "Read 1 chain(s) in ../data/temp/WT_200.pdb\n",
      "Read 1 chain(s) in ../data/temp/WT_205.pdb\n",
      "Read 1 chain(s) in ../data/temp/WT_210.pdb\n",
      "Read 1 chain(s) in ../data/temp/WT_215.pdb\n",
      "Read 1 chain(s) in ../data/temp/WT_220.pdb\n",
      "Read 1 chain(s) in ../data/temp/WT_225.pdb\n",
      "Read 1 chain(s) in ../data/temp/WT_230.pdb\n",
      "Read 1 chain(s) in ../data/temp/WT_235.pdb\n",
      "Read 1 chain(s) in ../data/temp/WT_240.pdb\n",
      "Read 1 chain(s) in ../data/temp/WT_245.pdb\n",
      "Read 1 chain(s) in ../data/temp/WT_250.pdb\n",
      "Read 1 chain(s) in ../data/temp/WT_255.pdb\n",
      "Read 1 chain(s) in ../data/temp/WT_260.pdb\n",
      "Read 1 chain(s) in ../data/temp/WT_265.pdb\n",
      "Read 1 chain(s) in ../data/temp/WT_270.pdb\n",
      "Read 1 chain(s) in ../data/temp/WT_275.pdb\n",
      "Read 1 chain(s) in ../data/temp/WT_280.pdb\n",
      "Read 1 chain(s) in ../data/temp/WT_285.pdb\n",
      "Read 1 chain(s) in ../data/temp/WT_290.pdb\n",
      "Read 1 chain(s) in ../data/temp/WT_295.pdb\n",
      "Read 1 chain(s) in ../data/temp/WT_300.pdb\n",
      "Read 1 chain(s) in ../data/temp/WT_305.pdb\n",
      "Read 1 chain(s) in ../data/temp/WT_310.pdb\n",
      "Read 1 chain(s) in ../data/temp/WT_315.pdb\n",
      "Read 1 chain(s) in ../data/temp/WT_320.pdb\n",
      "Read 1 chain(s) in ../data/temp/WT_325.pdb\n",
      "Read 1 chain(s) in ../data/temp/WT_330.pdb\n",
      "Read 1 chain(s) in ../data/temp/WT_335.pdb\n",
      "Read 1 chain(s) in ../data/temp/WT_340.pdb\n",
      "Read 1 chain(s) in ../data/temp/WT_345.pdb\n",
      "Read 1 chain(s) in ../data/temp/WT_350.pdb\n",
      "Read 1 chain(s) in ../data/temp/WT_355.pdb\n",
      "Read 1 chain(s) in ../data/temp/WT_360.pdb\n",
      "Read 1 chain(s) in ../data/temp/WT_365.pdb\n",
      "Read 1 chain(s) in ../data/temp/WT_370.pdb\n",
      "Read 1 chain(s) in ../data/temp/WT_375.pdb\n",
      "Read 1 chain(s) in ../data/temp/WT_380.pdb\n",
      "Read 1 chain(s) in ../data/temp/WT_385.pdb\n",
      "Read 1 chain(s) in ../data/temp/WT_390.pdb\n",
      "Read 1 chain(s) in ../data/temp/WT_395.pdb\n",
      "Read 1 chain(s) in ../data/temp/WT_400.pdb\n",
      "Read 1 chain(s) in ../data/temp/WT_405.pdb\n",
      "Read 1 chain(s) in ../data/temp/WT_410.pdb\n",
      "Read 1 chain(s) in ../data/temp/WT_415.pdb\n",
      "Read 1 chain(s) in ../data/temp/WT_420.pdb\n",
      "Read 1 chain(s) in ../data/temp/WT_425.pdb\n",
      "Read 1 chain(s) in ../data/temp/WT_430.pdb\n",
      "Read 1 chain(s) in ../data/temp/WT_435.pdb\n",
      "Read 1 chain(s) in ../data/temp/WT_440.pdb\n",
      "Read 1 chain(s) in ../data/temp/WT_445.pdb\n",
      "Read 1 chain(s) in ../data/temp/WT_450.pdb\n",
      "Read 1 chain(s) in ../data/temp/WT_455.pdb\n",
      "Read 1 chain(s) in ../data/temp/WT_460.pdb\n",
      "Read 1 chain(s) in ../data/temp/WT_465.pdb\n",
      "Read 1 chain(s) in ../data/temp/WT_470.pdb\n",
      "Read 1 chain(s) in ../data/temp/WT_475.pdb\n",
      "Read 1 chain(s) in ../data/temp/WT_480.pdb\n",
      "Read 1 chain(s) in ../data/temp/WT_485.pdb\n",
      "Read 1 chain(s) in ../data/temp/WT_490.pdb\n",
      "Read 1 chain(s) in ../data/temp/WT_495.pdb\n",
      "Read 1 chain(s) in ../data/temp/WT_500.pdb\n",
      "Read 1 chain(s) in ../data/temp/WT_505.pdb\n",
      "Read 1 chain(s) in ../data/temp/WT_510.pdb\n",
      "Read 1 chain(s) in ../data/temp/WT_515.pdb\n",
      "Read 1 chain(s) in ../data/temp/WT_520.pdb\n",
      "Read 1 chain(s) in ../data/temp/WT_525.pdb\n",
      "Read 1 chain(s) in ../data/temp/WT_530.pdb\n",
      "Read 1 chain(s) in ../data/temp/WT_535.pdb\n",
      "Read 1 chain(s) in ../data/temp/WT_540.pdb\n",
      "Read 1 chain(s) in ../data/temp/WT_545.pdb\n",
      "Read 1 chain(s) in ../data/temp/WT_550.pdb\n",
      "Read 1 chain(s) in ../data/temp/WT_555.pdb\n",
      "Read 1 chain(s) in ../data/temp/WT_560.pdb\n",
      "Read 1 chain(s) in ../data/temp/WT_565.pdb\n",
      "Read 1 chain(s) in ../data/temp/WT_570.pdb\n",
      "Read 1 chain(s) in ../data/temp/WT_575.pdb\n",
      "Read 1 chain(s) in ../data/temp/WT_580.pdb\n",
      "Read 1 chain(s) in ../data/temp/WT_585.pdb\n",
      "Read 1 chain(s) in ../data/temp/WT_590.pdb\n",
      "Read 1 chain(s) in ../data/temp/WT_595.pdb\n",
      "Read 1 chain(s) in ../data/temp/WT_600.pdb\n",
      "Read 1 chain(s) in ../data/temp/WT_605.pdb\n",
      "Read 1 chain(s) in ../data/temp/WT_610.pdb\n",
      "Read 1 chain(s) in ../data/temp/WT_615.pdb\n",
      "Read 1 chain(s) in ../data/temp/WT_620.pdb\n",
      "Read 1 chain(s) in ../data/temp/WT_625.pdb\n",
      "Read 1 chain(s) in ../data/temp/WT_630.pdb\n",
      "Read 1 chain(s) in ../data/temp/WT_635.pdb\n",
      "Read 1 chain(s) in ../data/temp/WT_640.pdb\n",
      "Read 1 chain(s) in ../data/temp/WT_645.pdb\n",
      "Read 1 chain(s) in ../data/temp/WT_650.pdb\n",
      "Read 1 chain(s) in ../data/temp/WT_655.pdb\n",
      "Read 1 chain(s) in ../data/temp/WT_660.pdb\n",
      "Read 1 chain(s) in ../data/temp/WT_665.pdb\n",
      "Read 1 chain(s) in ../data/temp/WT_670.pdb\n",
      "Read 1 chain(s) in ../data/temp/WT_675.pdb\n",
      "Read 1 chain(s) in ../data/temp/WT_680.pdb\n",
      "Read 1 chain(s) in ../data/temp/WT_685.pdb\n",
      "Read 1 chain(s) in ../data/temp/WT_690.pdb\n",
      "Read 1 chain(s) in ../data/temp/WT_695.pdb\n",
      "Read 1 chain(s) in ../data/temp/WT_700.pdb\n",
      "Read 1 chain(s) in ../data/temp/WT_705.pdb\n",
      "Read 1 chain(s) in ../data/temp/WT_710.pdb\n",
      "Read 1 chain(s) in ../data/temp/WT_715.pdb\n",
      "Read 1 chain(s) in ../data/temp/WT_720.pdb\n",
      "Read 1 chain(s) in ../data/temp/WT_725.pdb\n",
      "Read 1 chain(s) in ../data/temp/WT_730.pdb\n",
      "Read 1 chain(s) in ../data/temp/WT_735.pdb\n",
      "Read 1 chain(s) in ../data/temp/WT_740.pdb\n",
      "Read 1 chain(s) in ../data/temp/WT_745.pdb\n",
      "Read 1 chain(s) in ../data/temp/WT_750.pdb\n",
      "Read 1 chain(s) in ../data/temp/WT_755.pdb\n",
      "Read 1 chain(s) in ../data/temp/WT_760.pdb\n",
      "Read 1 chain(s) in ../data/temp/WT_765.pdb\n",
      "Read 1 chain(s) in ../data/temp/WT_770.pdb\n",
      "Read 1 chain(s) in ../data/temp/WT_775.pdb\n",
      "Read 1 chain(s) in ../data/temp/WT_780.pdb\n",
      "Read 1 chain(s) in ../data/temp/WT_785.pdb\n",
      "Read 1 chain(s) in ../data/temp/WT_790.pdb\n",
      "Read 1 chain(s) in ../data/temp/WT_795.pdb\n",
      "Read 1 chain(s) in ../data/temp/WT_800.pdb\n"
     ]
    },
    {
     "output_type": "stream",
     "name": "stdout",
     "text": [
      "161 PDB file(s) to process\n",
      "wrote ../data/sequences.PB.fasta\n"
     ]
    },
    {
     "output_type": "execute_result",
     "data": {
      "text/plain": [
       "0"
      ]
     },
     "metadata": {},
     "execution_count": 2
    }
   ],
   "metadata": {
    "collapsed": true,
    "jupyter": {
     "outputs_hidden": true
    },
    "tags": []
   }
  },
  {
   "cell_type": "markdown",
   "source": [
    "We have now a file `sequences.PB.fasta`, which provide the trajectories for every pdb frames we selected."
   ],
   "metadata": {}
  },
  {
   "cell_type": "markdown",
   "source": [
    "## II) Parsing the fasta file and make it in a right form\n",
    "\n",
    "After compute the PBassign of PBxplore, we need to import the sequences in the fasta file into Python. To do that, we use the `SeqIO` fonction of `biopython`. We import all the sequences into a `numpy` array, named `fasta_parsed`, with one sequence. The fasta file is imported in python but have some defaults: first, we have one frame by rows and columns represent each fragments. For make the statistic analyze more easier, we transpose the matrix. One more default of this array is inherent to the PBxplore : the 'Z' \"trajectory\". PBxplore analyze the trajectories of each amino acide *n* by the relation with amino acids *n-2*, *n-1*, *n+1*, *n+2*, which are impossible for the the two first and twor last amino acids. Even the calculation statistics parameters aren't possible (cause of the ordinal placment, see more in details in the statistic part), it's preferable to eliminated the two first and two last fragments, wich reduce a little the time of calculation. More of that, the 'Z' not represent a trajectory, but the impossibility of calculate it (as NA or NaN represent the absence of value), so it's not macking sense to calculated statistics on thats fragments.\n",
    "\n",
    "To do that in a proper way, we defined a class, named `Fasta`, which do every of this steps :"
   ],
   "metadata": {
    "tags": []
   }
  },
  {
   "cell_type": "code",
   "execution_count": 3,
   "source": [
    "from Bio import SeqIO\n",
    "import numpy as np\n",
    "\n",
    "class Fasta:\n",
    "    def __init__(self, file_name):\n",
    "        fasta_file = open(file_name)\n",
    "        allSeqs = []\n",
    "        for seq_record in SeqIO.parse(fasta_file, \"\"\"fasta\"\"\"):\n",
    "            allSeqs.append(seq_record.seq)\n",
    "        self.pb_seq = np.array(allSeqs)\n",
    "    def get_transpose(self):\n",
    "        sequences = self.pb_seq.transpose()\n",
    "        sequences = sequences[2:-2]\n",
    "        return sequences"
   ],
   "outputs": [],
   "metadata": {}
  },
  {
   "cell_type": "code",
   "execution_count": 4,
   "source": [
    "fasta = Fasta(\"../data/sequences.PB.fasta\")\n",
    "fasta_pbs = fasta.get_transpose()\n",
    "print(fasta_pbs)"
   ],
   "outputs": [
    {
     "output_type": "stream",
     "name": "stdout",
     "text": [
      "[['k' 'k' 'k' ... 'f' 'f' 'b']\n",
      " ['g' 'l' 'l' ... 'b' 'b' 'd']\n",
      " ['c' 'm' 'c' ... 'f' 'a' 'c']\n",
      " ...\n",
      " ['d' 'd' 'd' ... 'd' 'd' 'd']\n",
      " ['d' 'd' 'd' ... 'd' 'd' 'd']\n",
      " ['d' 'd' 'd' ... 'e' 'e' 'd']]\n"
     ]
    }
   ],
   "metadata": {}
  },
  {
   "cell_type": "markdown",
   "source": [
    "At this point, we have a now a formated numpy array, wich contained a every trajectory for each fragments in rows. At this point, we can perform statistical analysis to determine the correlation between trajectories.\n",
    "\n"
   ],
   "metadata": {}
  },
  {
   "cell_type": "markdown",
   "source": [
    "## III) Statistical analysis on trajectories\n",
    "\n",
    "In the article of Pandini *et al.*, they use a statistical model to determined the correlation between local motions. In this aspect they determined a normalized mutual information, based on three different statistics information : the mutual information, the joint entropy and the expected error of the mutual information. Here, we implement the same approach to our strucural alphabet."
   ],
   "metadata": {}
  },
  {
   "cell_type": "markdown",
   "source": [
    "### 1) Matrixes of probabilities\n",
    "\n",
    "To compute the differents statistic parameters, we have first to generate some probability matrix, much needed for the mutual information, his expected error and the joint entropy. To do that, we calculate the probability of have letters (or trajectories) at every frames, and between every frames, that know as $p(x)$ and $p(x,y)$ :"
   ],
   "metadata": {}
  },
  {
   "cell_type": "code",
   "execution_count": 5,
   "source": [
    "def calculate_p(frame, weight):\n",
    "    matrix= np.zeros((16)) #initialization of matrix\n",
    "    for i in range(0,len(frame)):\n",
    "        index_row = ord(frame[i])-97 #discretisation of the alphabet in int number (based on ASCII coding)\n",
    "        matrix[index_row] += weight\n",
    "    return matrix\n",
    "\n",
    "def calculate_pxy(frame_src, frame_target, weight):\n",
    "    matrix= np.zeros((16,16)) #initialization of matrix\n",
    "    for i in range(0,len(frame_src)):\n",
    "        index_row = ord(frame_src[i])-97 #discretisation of the alphabet in int number (based on ASCII coding)\n",
    "        index_col = ord(frame_target[i])-97\n",
    "        matrix[index_row,index_col] += weight\n",
    "    return matrix"
   ],
   "outputs": [],
   "metadata": {}
  },
  {
   "cell_type": "markdown",
   "source": [
    "### 2) The mutual information\n",
    "\n",
    "The first statistical parameter is the mutual information. In article of Pandini *et al* and in the GSA tools software, they calculated the mutual information *I(X;Y)* as the following equation:\n",
    "\n",
    "$\n",
    "I(X;Y)=\\sum_{x\\in X}\\sum_{y\\in Y} p(x,y)log_2(\\frac{p(x,y)}{p_1(x) p_2(y)})\n",
    "$\n",
    "\n",
    "To implement that, we defined a fonction `calculate_MI` as:"
   ],
   "metadata": {}
  },
  {
   "cell_type": "code",
   "execution_count": 6,
   "source": [
    "import math\n",
    "\n",
    "def calulate_mi(px, py, pxy):\n",
    "    size = len(px)\n",
    "    mi = 0\n",
    "    for i in range(0,size):\n",
    "        for j in range(0,size):\n",
    "            if pxy[i,j] != 0:\n",
    "                mi += pxy[i,j] * math.log2(pxy[i,j]/(px[i]*py[j]))\n",
    "        if mi > 0:\n",
    "            return mi\n",
    "        else:\n",
    "            return 0 "
   ],
   "outputs": [],
   "metadata": {}
  },
  {
   "cell_type": "markdown",
   "source": [
    "### 3) The joint entropy\n",
    "\n",
    "On the same approach, the joint entropy is defined as *H(X;Y)*:\n",
    "\n",
    "$\n",
    "H(X;Y)=\\sum_{x\\in X}\\sum_{y\\in Y} p(x,y)log_2 p(x,y)\n",
    "$"
   ],
   "metadata": {}
  },
  {
   "cell_type": "code",
   "execution_count": 17,
   "source": [
    "def calculate_joint_entropy(pxy):\n",
    "    size = len(pxy)\n",
    "    joint_entropy = 0\n",
    "    for i in range(0,size):\n",
    "        for j in range(0,size):\n",
    "            if pxy [i,j] !=0:\n",
    "                joint_entropy -= pxy[i,j] * math.log2(pxy[i,j])\n",
    "    if joint_entropy != 0:\n",
    "        return joint_entropy\n",
    "    else:\n",
    "        return 0"
   ],
   "outputs": [],
   "metadata": {}
  },
  {
   "cell_type": "markdown",
   "source": [
    "### 4) The expected error of the mutual information\n",
    "\n",
    "The third parameter needed for the normalized mutual information is the expected error. In fact, the calculation of the information theoretical quantities on a finite size sample is affected by random errors, inherent to the sample, which are negligeable in the case of Shanon's entropy, but affect the mutual information calculs. In this case, Roulston *et al.* () present a method to improve this calcul, which used the expect error on the MI. This error is calculated as:\n",
    "\n",
    "$\n",
    "\\varepsilon (X;Y) = \\frac{B^*_{XY} - B^*_X - B^*_Y +1}{2N}\n",
    "$\n",
    "\n",
    "Where $B^*_{XY}$ , $B^*_X$ , $B^*_Y$ are the count of probability different of zero in the stat *(X;Y)*, *X* and *Y*, respectively.\n",
    "\n",
    "On this purpose, we defiened a fonction which calculate this expected error as following:"
   ],
   "metadata": {}
  },
  {
   "cell_type": "code",
   "execution_count": 8,
   "source": [
    "def calculate_eemi(bxy, bx, by, n):\n",
    "    return (bxy - bx - by + 1)/(2 * n)"
   ],
   "outputs": [],
   "metadata": {}
  },
  {
   "cell_type": "markdown",
   "source": [
    "### 5) The normalized mutual information\n",
    "\n",
    "After calculate all of this statistical data,we obtained three differents matrixes, which have the same lenght than the sequences of the protein in row and columns. Each matrixes indicate the mutual information, the joint entropy and the expected error for each fragment against each other fragment. Then, we can calculated the normalized mutual information, defined as following:\n",
    "\n",
    "$ \n",
    "I^n_{LL}(C_i;C_j)=\\frac{I(C_i;C_j) - \\varepsilon(C_i;C_j)}{H(C_i;C_j)}\n",
    "$\n",
    "\n",
    "For calculate this, we do a one fonction which aim to do the mutual information normalized and every other part of the statistic analysis:"
   ],
   "metadata": {}
  },
  {
   "cell_type": "code",
   "execution_count": 9,
   "source": [
    "def stats_analyze(frames_all):\n",
    "    seq_size = len(frames_all[:,0])\n",
    "    weight = 1 / seq_size\n",
    "    mi = np.zeros((seq_size,seq_size))\n",
    "    joint_entropy = np.zeros((seq_size,seq_size))\n",
    "    eemi = np.zeros((seq_size,seq_size))\n",
    "    normalized_mi = np.zeros((seq_size,seq_size))\n",
    "    for i in range(0,len(frames_all)):\n",
    "        for j in range(i,len(frames_all)):\n",
    "            px = calculate_p(frames_all[i],weight) \n",
    "            py = calculate_p(frames_all[j],weight)\n",
    "            pxy = calculate_pxy(frames_all[i],frames_all[j],weight)\n",
    "            mi[i, j] = calulate_mi(px, py, pxy)\n",
    "            joint_entropy[i, j] = calculate_joint_entropy(pxy)\n",
    "            bx = np.count_nonzero(px)\n",
    "            by = np.count_nonzero(py)\n",
    "            bxy = np.count_nonzero(pxy)\n",
    "            eemi[i, j] = calculate_eemi(bxy, bx, by, seq_size)\n",
    "            if joint_entropy[i, j] != 0:\n",
    "                normalized_mi[i, j] = (mi[i, j] - eemi[i, j])/joint_entropy[i, j]\n",
    "            else:\n",
    "                normalized_mi[i, j] = 0\n",
    "            if i != j:\n",
    "                mi[j, i]=mi[i, j]\n",
    "                eemi[j, i]=eemi[i, j]\n",
    "                joint_entropy[j, i]=joint_entropy[i, j]\n",
    "                normalized_mi[j, i] = normalized_mi[i, j]\n",
    "    return mi, eemi, joint_entropy, normalized_mi"
   ],
   "outputs": [],
   "metadata": {}
  },
  {
   "cell_type": "markdown",
   "source": [
    "In this fonction, only the numpy array of the fasta is needed to compute all of the model, and return the mutual information, the joint entropy, the mutual information and his expected error. every part of this analysis is wright in the `pb_analyze.py` file."
   ],
   "metadata": {}
  },
  {
   "cell_type": "code",
   "execution_count": 18,
   "source": [
    "MI, eeMI, joint_entropy, normalized_MI = stats_analyze(fasta_pbs)"
   ],
   "outputs": [],
   "metadata": {}
  },
  {
   "cell_type": "code",
   "execution_count": 11,
   "source": [
    "print(MI)"
   ],
   "outputs": [
    {
     "output_type": "stream",
     "name": "stdout",
     "text": [
      "[[5.18104532e-02 2.65591275e-02 1.75006742e-02 ... 3.12041222e-04\n",
      "  7.71477497e-05 5.66499261e-03]\n",
      " [2.65591275e-02 5.18104532e-02 1.43704311e-02 ... 3.12041222e-04\n",
      "  7.71477497e-05 5.66499261e-03]\n",
      " [1.75006742e-02 1.43704311e-02 3.73574285e-01 ... 6.96204022e-03\n",
      "  0.00000000e+00 4.92577552e-02]\n",
      " ...\n",
      " [3.12041222e-04 3.12041222e-04 6.96204022e-03 ... 2.58050830e-01\n",
      "  2.47606445e-02 1.56231219e-04]\n",
      " [7.71477497e-05 7.71477497e-05 0.00000000e+00 ... 2.47606445e-02\n",
      "  1.97652682e-01 9.03198326e-04]\n",
      " [5.66499261e-03 5.66499261e-03 4.92577552e-02 ... 1.56231219e-04\n",
      "  9.03198326e-04 5.18104532e-02]]\n"
     ]
    }
   ],
   "metadata": {}
  },
  {
   "cell_type": "code",
   "execution_count": 12,
   "source": [
    "print(eeMI)"
   ],
   "outputs": [
    {
     "output_type": "stream",
     "name": "stdout",
     "text": [
      "[[-0.04744526  0.05109489  0.08029197 ...  0.05474453  0.04744526\n",
      "   0.06934307]\n",
      " [ 0.05109489 -0.05109489  0.0620438  ...  0.04379562  0.04014599\n",
      "   0.06569343]\n",
      " [ 0.08029197  0.0620438  -0.04744526 ...  0.04014599  0.04744526\n",
      "   0.0729927 ]\n",
      " ...\n",
      " [ 0.05474453  0.04379562  0.04014599 ... -0.04014599 -0.01094891\n",
      "   0.        ]\n",
      " [ 0.04744526  0.04014599  0.04744526 ... -0.01094891 -0.02919708\n",
      "  -0.00729927]\n",
      " [ 0.06934307  0.06569343  0.0729927  ...  0.         -0.00729927\n",
      "  -0.03284672]]\n"
     ]
    }
   ],
   "metadata": {}
  },
  {
   "cell_type": "code",
   "execution_count": 19,
   "source": [
    "print(joint_entropy)"
   ],
   "outputs": [
    {
     "output_type": "stream",
     "name": "stdout",
     "text": [
      "[[3.604289   5.18338683 5.67194968 ... 4.66573496 4.55154187 5.16529319]\n",
      " [5.18338683 3.76891392 5.5465039  ... 4.74535888 4.60368763 5.20510521]\n",
      " [5.67194968 5.5465039  3.62048259 ... 4.63703326 4.54137114 5.28726941]\n",
      " ...\n",
      " [4.66573496 4.74535888 4.63703326 ... 1.12336698 1.62442829 2.76438625]\n",
      " [4.55154187 4.60368763 4.54137114 ... 1.62442829 0.94140199 2.39747276]\n",
      " [5.16529319 5.20510521 5.28726941 ... 2.76438625 2.39747276 1.86613382]]\n"
     ]
    }
   ],
   "metadata": {}
  },
  {
   "cell_type": "code",
   "execution_count": 20,
   "source": [
    "print(normalized_MI)"
   ],
   "outputs": [
    {
     "output_type": "stream",
     "name": "stdout",
     "text": [
      "[[ 2.75382215e-02 -4.73353887e-03 -1.10704961e-02 ... -1.16664330e-02\n",
      "  -1.04070465e-02 -1.23280656e-02]\n",
      " [-4.73353887e-03  2.73037129e-02 -8.59520976e-03 ... -9.16339108e-03\n",
      "  -8.70363953e-03 -1.15326080e-02]\n",
      " [-1.10704961e-02 -8.59520976e-03  1.16288238e-01 ... -7.15628794e-03\n",
      "  -1.04473416e-02 -4.48907436e-03]\n",
      " ...\n",
      " [-1.16664330e-02 -9.16339108e-03 -7.15628794e-03 ...  2.65449155e-01\n",
      "   2.19828415e-02  5.65156983e-05]\n",
      " [-1.04070465e-02 -8.70363953e-03 -1.04473416e-02 ...  2.19828415e-02\n",
      "   2.40970134e-01  3.42129785e-03]\n",
      " [-1.23280656e-02 -1.15326080e-02 -4.48907436e-03 ...  5.65156983e-05\n",
      "   3.42129785e-03  4.53650040e-02]]\n"
     ]
    }
   ],
   "metadata": {}
  },
  {
   "cell_type": "markdown",
   "source": [
    "## IV) Vizualisaton\n",
    "\n",
    "In this last part, we add a graphic representation for the normalized mutal information matrix matrix with the use of `matplotlib` and `seaborn`."
   ],
   "metadata": {}
  },
  {
   "cell_type": "code",
   "execution_count": 21,
   "source": [
    "import matplotlib.pyplot as plt\n",
    "import seaborn as sns\n",
    "\n",
    "def matrix_plot(matrix):\n",
    "    f, ax = plt.subplots(figsize=(15, 15)) \n",
    "    heatmap = sns.heatmap(matrix,\n",
    "                      square=True,\n",
    "                      linewidths = .5,\n",
    "                      cmap ='Blues',\n",
    "                      cbar_kws={\"shrink\": .4, 'ticks' : [-0.2, -0.1, 0.0, 0.1, 0.2]},\n",
    "                      vmin = -0.2, \n",
    "                      vmax = 0.2,\n",
    "                      )\n",
    "    sns.set_style({'xtick.bottom': True}, {'ytick.left': True})\n",
    "    plt.title(\"Normalized Mutual Information\")\n",
    "    plt.xlabel(\"Fragment number\")\n",
    "    plt.ylabel(\"Fragment number\")\n",
    "    return heatmap"
   ],
   "outputs": [],
   "metadata": {}
  },
  {
   "cell_type": "code",
   "execution_count": 23,
   "source": [
    "%matplotlib inline\n",
    "vizu_nmi = matrix_plot(normalized_MI)"
   ],
   "outputs": [
    {
     "output_type": "display_data",
     "data": {
      "image/png": "[encoded data removed]",
      "text/plain": [
       "<Figure size 1080x1080 with 2 Axes>"
      ]
     },
     "metadata": {
      "needs_background": "light"
     }
    }
   ],
   "metadata": {}
  },
  {
   "cell_type": "markdown",
   "source": [
    "## V) Actual limit of the project\n",
    "\n",
    "This work have lot of limits. First, all fonctions aren't defined to in objects, and the main upgrade of this code will be to make it. That provide a better managment of the errors, which is not really do at this step of the program. Another point, link to the first, is the entry provides by the user : they are a bit managed but not totaly one more time, the user can write specific unappropriate entries which gonna crash the program. If the code isn't start in the proprer directory, it may encounter some trouble to, and the data need to be stocked specificly in data, as well as the frames of motion need to have a consistant naming with an underscore before the number of the frame. More of that, the program make inconsistent results. The code need  to be make better to improve this critical step of programming. However, the program are need to create more graphics representation for describe all statistics approach, confirm local motion. The last but not the least, this program doesn't implement totaly the GSA-tools software, and on this point, it doesn't answer totaly on the suject, and it need to be improve in that way.\n"
   ],
   "metadata": {}
  },
  {
   "cell_type": "markdown",
   "source": [
    "### References :\n",
    "\n",
    "#### Bibliography:\n",
    "\n",
    "- Pandini A, Fornili A, Fraternali F, Kleinjung J. \"GSATools: analysis of allosteric communication and functional local motions using a Structural Alphabet\", Bioinformatics, 2013, 29(16):2053-2055, \n",
    "- Pandini A, Fornili A, Fraternali F, Kleinjung J. \"Detection of allosteric signal transmission by information-theoretic analysis of protein dynamics\". FASEB J., 2012 Feb, 26(2):868-81.\n",
    "- Jonathan Barnoud, Hubert Santuz,Pierrick Craveur, Agnel Praveen Joseph, Vincent Jallu, Alexandre G. de Brevern, Pierre Poulain, \"PBxplore: A Tool To Analyze Local Protein Structure And Deformability With Protein Blocks\". Peer J., 2017 Nov,\n",
    "- Roulston M. \"Estimating the errors on measured entropy and mutual information\". Phys. D Nonlinear Phenomena, 1999, 125: 285–294\n",
    "- Park B. H., Levitt M.  \"The complexity and accuracy of discrete state models of protein structure\". J. Mol. Biol., 1995, 249: 493–507\n",
    "- Cover T. M., Thomas J. A. (1991) Elements of Information Theory, Wiley-Interscience, New York \n",
    "\n",
    "#### GitHub:\n",
    "\n",
    "- [GSA-tools](https://github.com/AllosterIt/GSAtools)\n",
    "- [PBxplore](https://github.com/pierrepo/PBxplore)\n"
   ],
   "metadata": {}
  }
 ],
 "metadata": {
  "interpreter": {
   "hash": "5c7ffd004007d3d55907443578e30509ba42393fb2624d1ca3d49895f63bea82"
  },
  "kernelspec": {
   "name": "python3",
   "display_name": "Python 3.9.6 64-bit ('GSA2PB_env': conda)"
  },
  "language_info": {
   "codemirror_mode": {
    "name": "ipython",
    "version": 3
   },
   "file_extension": ".py",
   "mimetype": "text/x-python",
   "name": "python",
   "nbconvert_exporter": "python",
   "pygments_lexer": "ipython3",
   "version": "3.9.6"
  }
 },
 "nbformat": 4,
 "nbformat_minor": 4
}